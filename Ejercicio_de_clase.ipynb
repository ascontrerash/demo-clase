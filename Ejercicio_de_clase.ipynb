{
  "nbformat": 4,
  "nbformat_minor": 0,
  "metadata": {
    "colab": {
      "name": "Ejercicio de clase.ipynb",
      "version": "0.3.2",
      "provenance": [],
      "include_colab_link": true
    },
    "kernelspec": {
      "name": "python3",
      "display_name": "Python 3"
    }
  },
  "cells": [
    {
      "cell_type": "markdown",
      "metadata": {
        "id": "view-in-github",
        "colab_type": "text"
      },
      "source": [
        "<a href=\"https://colab.research.google.com/github/ascontrerash/demo-clase/blob/master/Ejercicio_de_clase.ipynb\" target=\"_parent\"><img src=\"https://colab.research.google.com/assets/colab-badge.svg\" alt=\"Open In Colab\"/></a>"
      ]
    },
    {
      "cell_type": "markdown",
      "metadata": {
        "id": "usGyAehZ3aVC",
        "colab_type": "text"
      },
      "source": [
        "#EJERCICIO DE CLASE"
      ]
    },
    {
      "cell_type": "markdown",
      "metadata": {
        "id": "lEx6eGEQ3ekI",
        "colab_type": "text"
      },
      "source": [
        "**Este es un ejercicio en clase de Fundamentos de Analítica**"
      ]
    }
  ]
}